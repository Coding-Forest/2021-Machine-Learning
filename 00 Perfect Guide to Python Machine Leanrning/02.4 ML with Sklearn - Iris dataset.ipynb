{
  "nbformat": 4,
  "nbformat_minor": 0,
  "metadata": {
    "colab": {
      "name": "Iris dataset.ipynb",
      "provenance": [],
      "collapsed_sections": [],
      "toc_visible": true
    },
    "kernelspec": {
      "name": "python3",
      "display_name": "Python 3"
    },
    "language_info": {
      "name": "python"
    }
  },
  "cells": [
    {
      "cell_type": "markdown",
      "metadata": {
        "id": "cThmy57aOSee"
      },
      "source": [
        "# Machine Learning with ScikitLearn using Iris dataset\n",
        "- Decision Tree"
      ]
    },
    {
      "cell_type": "code",
      "metadata": {
        "colab": {
          "base_uri": "https://localhost:8080/"
        },
        "id": "Zd3QX2U7D6oo",
        "outputId": "20d49480-0b5c-4afa-e252-9d17cda0c7a9"
      },
      "source": [
        "import sklearn\n",
        "print(sklearn.__version__)"
      ],
      "execution_count": 1,
      "outputs": [
        {
          "output_type": "stream",
          "name": "stdout",
          "text": [
            "0.22.2.post1\n"
          ]
        }
      ]
    },
    {
      "cell_type": "code",
      "metadata": {
        "id": "1RZ2DEAZE8Y4"
      },
      "source": [
        "from sklearn.datasets import load_iris\n",
        "from sklearn.tree import DecisionTreeClassifier\n",
        "from sklearn.model_selection import train_test_split"
      ],
      "execution_count": 2,
      "outputs": []
    },
    {
      "cell_type": "code",
      "metadata": {
        "id": "JFNw9x_TFy7t"
      },
      "source": [
        "import pandas as pd\n",
        "\n",
        "iris = load_iris()\n",
        "iris_data = iris.data"
      ],
      "execution_count": 3,
      "outputs": []
    },
    {
      "cell_type": "code",
      "metadata": {
        "colab": {
          "base_uri": "https://localhost:8080/"
        },
        "id": "hvP4a3Lg8zrt",
        "outputId": "525caef2-8bdf-4e37-e466-af0efdee8256"
      },
      "source": [
        "iris.keys()"
      ],
      "execution_count": 13,
      "outputs": [
        {
          "output_type": "execute_result",
          "data": {
            "text/plain": [
              "dict_keys(['data', 'target', 'target_names', 'DESCR', 'feature_names', 'filename'])"
            ]
          },
          "metadata": {},
          "execution_count": 13
        }
      ]
    },
    {
      "cell_type": "code",
      "metadata": {
        "colab": {
          "base_uri": "https://localhost:8080/"
        },
        "id": "NhcFQmU89R6B",
        "outputId": "55d59ce2-9ad5-4d4c-fd1d-f2da855591ae"
      },
      "source": [
        "print(\"type: \", type(iris.feature_names)) # list\n",
        "print(\"shape: \", len(iris.feature_names))\n",
        "print(iris.feature_names)\n",
        "\n",
        "print(\"\\ntype: \", type(iris.target_names)) # numpy.ndarray\n",
        "print(\"shape: \", len(iris.target_names))\n",
        "print(iris.target_names)\n",
        "\n",
        "print(\"\\ntype: \", type(iris.data)) # numpy.ndarray\n",
        "print(\"shape: \",len(iris.data))\n",
        "print(iris.data)\n",
        "\n",
        "print(\"\\ntype: \", type(iris.target))\n",
        "print(\"shape: \", len(iris.target))\n",
        "print(iris.target)"
      ],
      "execution_count": 15,
      "outputs": [
        {
          "output_type": "stream",
          "name": "stdout",
          "text": [
            "type:  <class 'list'>\n",
            "shape:  4\n",
            "['sepal length (cm)', 'sepal width (cm)', 'petal length (cm)', 'petal width (cm)']\n",
            "\n",
            "type:  <class 'numpy.ndarray'>\n",
            "shape:  3\n",
            "['setosa' 'versicolor' 'virginica']\n",
            "\n",
            "type:  <class 'numpy.ndarray'>\n",
            "shape:  150\n",
            "[[5.1 3.5 1.4 0.2]\n",
            " [4.9 3.  1.4 0.2]\n",
            " [4.7 3.2 1.3 0.2]\n",
            " [4.6 3.1 1.5 0.2]\n",
            " [5.  3.6 1.4 0.2]\n",
            " [5.4 3.9 1.7 0.4]\n",
            " [4.6 3.4 1.4 0.3]\n",
            " [5.  3.4 1.5 0.2]\n",
            " [4.4 2.9 1.4 0.2]\n",
            " [4.9 3.1 1.5 0.1]\n",
            " [5.4 3.7 1.5 0.2]\n",
            " [4.8 3.4 1.6 0.2]\n",
            " [4.8 3.  1.4 0.1]\n",
            " [4.3 3.  1.1 0.1]\n",
            " [5.8 4.  1.2 0.2]\n",
            " [5.7 4.4 1.5 0.4]\n",
            " [5.4 3.9 1.3 0.4]\n",
            " [5.1 3.5 1.4 0.3]\n",
            " [5.7 3.8 1.7 0.3]\n",
            " [5.1 3.8 1.5 0.3]\n",
            " [5.4 3.4 1.7 0.2]\n",
            " [5.1 3.7 1.5 0.4]\n",
            " [4.6 3.6 1.  0.2]\n",
            " [5.1 3.3 1.7 0.5]\n",
            " [4.8 3.4 1.9 0.2]\n",
            " [5.  3.  1.6 0.2]\n",
            " [5.  3.4 1.6 0.4]\n",
            " [5.2 3.5 1.5 0.2]\n",
            " [5.2 3.4 1.4 0.2]\n",
            " [4.7 3.2 1.6 0.2]\n",
            " [4.8 3.1 1.6 0.2]\n",
            " [5.4 3.4 1.5 0.4]\n",
            " [5.2 4.1 1.5 0.1]\n",
            " [5.5 4.2 1.4 0.2]\n",
            " [4.9 3.1 1.5 0.2]\n",
            " [5.  3.2 1.2 0.2]\n",
            " [5.5 3.5 1.3 0.2]\n",
            " [4.9 3.6 1.4 0.1]\n",
            " [4.4 3.  1.3 0.2]\n",
            " [5.1 3.4 1.5 0.2]\n",
            " [5.  3.5 1.3 0.3]\n",
            " [4.5 2.3 1.3 0.3]\n",
            " [4.4 3.2 1.3 0.2]\n",
            " [5.  3.5 1.6 0.6]\n",
            " [5.1 3.8 1.9 0.4]\n",
            " [4.8 3.  1.4 0.3]\n",
            " [5.1 3.8 1.6 0.2]\n",
            " [4.6 3.2 1.4 0.2]\n",
            " [5.3 3.7 1.5 0.2]\n",
            " [5.  3.3 1.4 0.2]\n",
            " [7.  3.2 4.7 1.4]\n",
            " [6.4 3.2 4.5 1.5]\n",
            " [6.9 3.1 4.9 1.5]\n",
            " [5.5 2.3 4.  1.3]\n",
            " [6.5 2.8 4.6 1.5]\n",
            " [5.7 2.8 4.5 1.3]\n",
            " [6.3 3.3 4.7 1.6]\n",
            " [4.9 2.4 3.3 1. ]\n",
            " [6.6 2.9 4.6 1.3]\n",
            " [5.2 2.7 3.9 1.4]\n",
            " [5.  2.  3.5 1. ]\n",
            " [5.9 3.  4.2 1.5]\n",
            " [6.  2.2 4.  1. ]\n",
            " [6.1 2.9 4.7 1.4]\n",
            " [5.6 2.9 3.6 1.3]\n",
            " [6.7 3.1 4.4 1.4]\n",
            " [5.6 3.  4.5 1.5]\n",
            " [5.8 2.7 4.1 1. ]\n",
            " [6.2 2.2 4.5 1.5]\n",
            " [5.6 2.5 3.9 1.1]\n",
            " [5.9 3.2 4.8 1.8]\n",
            " [6.1 2.8 4.  1.3]\n",
            " [6.3 2.5 4.9 1.5]\n",
            " [6.1 2.8 4.7 1.2]\n",
            " [6.4 2.9 4.3 1.3]\n",
            " [6.6 3.  4.4 1.4]\n",
            " [6.8 2.8 4.8 1.4]\n",
            " [6.7 3.  5.  1.7]\n",
            " [6.  2.9 4.5 1.5]\n",
            " [5.7 2.6 3.5 1. ]\n",
            " [5.5 2.4 3.8 1.1]\n",
            " [5.5 2.4 3.7 1. ]\n",
            " [5.8 2.7 3.9 1.2]\n",
            " [6.  2.7 5.1 1.6]\n",
            " [5.4 3.  4.5 1.5]\n",
            " [6.  3.4 4.5 1.6]\n",
            " [6.7 3.1 4.7 1.5]\n",
            " [6.3 2.3 4.4 1.3]\n",
            " [5.6 3.  4.1 1.3]\n",
            " [5.5 2.5 4.  1.3]\n",
            " [5.5 2.6 4.4 1.2]\n",
            " [6.1 3.  4.6 1.4]\n",
            " [5.8 2.6 4.  1.2]\n",
            " [5.  2.3 3.3 1. ]\n",
            " [5.6 2.7 4.2 1.3]\n",
            " [5.7 3.  4.2 1.2]\n",
            " [5.7 2.9 4.2 1.3]\n",
            " [6.2 2.9 4.3 1.3]\n",
            " [5.1 2.5 3.  1.1]\n",
            " [5.7 2.8 4.1 1.3]\n",
            " [6.3 3.3 6.  2.5]\n",
            " [5.8 2.7 5.1 1.9]\n",
            " [7.1 3.  5.9 2.1]\n",
            " [6.3 2.9 5.6 1.8]\n",
            " [6.5 3.  5.8 2.2]\n",
            " [7.6 3.  6.6 2.1]\n",
            " [4.9 2.5 4.5 1.7]\n",
            " [7.3 2.9 6.3 1.8]\n",
            " [6.7 2.5 5.8 1.8]\n",
            " [7.2 3.6 6.1 2.5]\n",
            " [6.5 3.2 5.1 2. ]\n",
            " [6.4 2.7 5.3 1.9]\n",
            " [6.8 3.  5.5 2.1]\n",
            " [5.7 2.5 5.  2. ]\n",
            " [5.8 2.8 5.1 2.4]\n",
            " [6.4 3.2 5.3 2.3]\n",
            " [6.5 3.  5.5 1.8]\n",
            " [7.7 3.8 6.7 2.2]\n",
            " [7.7 2.6 6.9 2.3]\n",
            " [6.  2.2 5.  1.5]\n",
            " [6.9 3.2 5.7 2.3]\n",
            " [5.6 2.8 4.9 2. ]\n",
            " [7.7 2.8 6.7 2. ]\n",
            " [6.3 2.7 4.9 1.8]\n",
            " [6.7 3.3 5.7 2.1]\n",
            " [7.2 3.2 6.  1.8]\n",
            " [6.2 2.8 4.8 1.8]\n",
            " [6.1 3.  4.9 1.8]\n",
            " [6.4 2.8 5.6 2.1]\n",
            " [7.2 3.  5.8 1.6]\n",
            " [7.4 2.8 6.1 1.9]\n",
            " [7.9 3.8 6.4 2. ]\n",
            " [6.4 2.8 5.6 2.2]\n",
            " [6.3 2.8 5.1 1.5]\n",
            " [6.1 2.6 5.6 1.4]\n",
            " [7.7 3.  6.1 2.3]\n",
            " [6.3 3.4 5.6 2.4]\n",
            " [6.4 3.1 5.5 1.8]\n",
            " [6.  3.  4.8 1.8]\n",
            " [6.9 3.1 5.4 2.1]\n",
            " [6.7 3.1 5.6 2.4]\n",
            " [6.9 3.1 5.1 2.3]\n",
            " [5.8 2.7 5.1 1.9]\n",
            " [6.8 3.2 5.9 2.3]\n",
            " [6.7 3.3 5.7 2.5]\n",
            " [6.7 3.  5.2 2.3]\n",
            " [6.3 2.5 5.  1.9]\n",
            " [6.5 3.  5.2 2. ]\n",
            " [6.2 3.4 5.4 2.3]\n",
            " [5.9 3.  5.1 1.8]]\n",
            "\n",
            "type:  <class 'numpy.ndarray'>\n",
            "shape:  150\n",
            "[0 0 0 0 0 0 0 0 0 0 0 0 0 0 0 0 0 0 0 0 0 0 0 0 0 0 0 0 0 0 0 0 0 0 0 0 0\n",
            " 0 0 0 0 0 0 0 0 0 0 0 0 0 1 1 1 1 1 1 1 1 1 1 1 1 1 1 1 1 1 1 1 1 1 1 1 1\n",
            " 1 1 1 1 1 1 1 1 1 1 1 1 1 1 1 1 1 1 1 1 1 1 1 1 1 1 2 2 2 2 2 2 2 2 2 2 2\n",
            " 2 2 2 2 2 2 2 2 2 2 2 2 2 2 2 2 2 2 2 2 2 2 2 2 2 2 2 2 2 2 2 2 2 2 2 2 2\n",
            " 2 2]\n"
          ]
        }
      ]
    },
    {
      "cell_type": "code",
      "metadata": {
        "colab": {
          "base_uri": "https://localhost:8080/"
        },
        "id": "hdhwdxN9GSoS",
        "outputId": "56021d33-4bde-41e2-e850-c92f34da5940"
      },
      "source": [
        "iris_label = iris.target\n",
        "print(\"iris target value: \", iris_label)\n",
        "print(\"iris target name: \", iris.target_names)"
      ],
      "execution_count": 4,
      "outputs": [
        {
          "output_type": "stream",
          "name": "stdout",
          "text": [
            "iris target value:  [0 0 0 0 0 0 0 0 0 0 0 0 0 0 0 0 0 0 0 0 0 0 0 0 0 0 0 0 0 0 0 0 0 0 0 0 0\n",
            " 0 0 0 0 0 0 0 0 0 0 0 0 0 1 1 1 1 1 1 1 1 1 1 1 1 1 1 1 1 1 1 1 1 1 1 1 1\n",
            " 1 1 1 1 1 1 1 1 1 1 1 1 1 1 1 1 1 1 1 1 1 1 1 1 1 1 2 2 2 2 2 2 2 2 2 2 2\n",
            " 2 2 2 2 2 2 2 2 2 2 2 2 2 2 2 2 2 2 2 2 2 2 2 2 2 2 2 2 2 2 2 2 2 2 2 2 2\n",
            " 2 2]\n",
            "iris target name:  ['setosa' 'versicolor' 'virginica']\n"
          ]
        }
      ]
    },
    {
      "cell_type": "code",
      "metadata": {
        "colab": {
          "base_uri": "https://localhost:8080/",
          "height": 202
        },
        "id": "q4Tqd46bGeO4",
        "outputId": "e1e6b149-82fc-4bfe-9ed5-111252a61d07"
      },
      "source": [
        "iris_df = pd.DataFrame(data=iris_data, columns=iris.feature_names)\n",
        "iris_df['label'] = iris.target\n",
        "iris_df.head()"
      ],
      "execution_count": 5,
      "outputs": [
        {
          "output_type": "execute_result",
          "data": {
            "text/html": [
              "<div>\n",
              "<style scoped>\n",
              "    .dataframe tbody tr th:only-of-type {\n",
              "        vertical-align: middle;\n",
              "    }\n",
              "\n",
              "    .dataframe tbody tr th {\n",
              "        vertical-align: top;\n",
              "    }\n",
              "\n",
              "    .dataframe thead th {\n",
              "        text-align: right;\n",
              "    }\n",
              "</style>\n",
              "<table border=\"1\" class=\"dataframe\">\n",
              "  <thead>\n",
              "    <tr style=\"text-align: right;\">\n",
              "      <th></th>\n",
              "      <th>sepal length (cm)</th>\n",
              "      <th>sepal width (cm)</th>\n",
              "      <th>petal length (cm)</th>\n",
              "      <th>petal width (cm)</th>\n",
              "      <th>label</th>\n",
              "    </tr>\n",
              "  </thead>\n",
              "  <tbody>\n",
              "    <tr>\n",
              "      <th>0</th>\n",
              "      <td>5.1</td>\n",
              "      <td>3.5</td>\n",
              "      <td>1.4</td>\n",
              "      <td>0.2</td>\n",
              "      <td>0</td>\n",
              "    </tr>\n",
              "    <tr>\n",
              "      <th>1</th>\n",
              "      <td>4.9</td>\n",
              "      <td>3.0</td>\n",
              "      <td>1.4</td>\n",
              "      <td>0.2</td>\n",
              "      <td>0</td>\n",
              "    </tr>\n",
              "    <tr>\n",
              "      <th>2</th>\n",
              "      <td>4.7</td>\n",
              "      <td>3.2</td>\n",
              "      <td>1.3</td>\n",
              "      <td>0.2</td>\n",
              "      <td>0</td>\n",
              "    </tr>\n",
              "    <tr>\n",
              "      <th>3</th>\n",
              "      <td>4.6</td>\n",
              "      <td>3.1</td>\n",
              "      <td>1.5</td>\n",
              "      <td>0.2</td>\n",
              "      <td>0</td>\n",
              "    </tr>\n",
              "    <tr>\n",
              "      <th>4</th>\n",
              "      <td>5.0</td>\n",
              "      <td>3.6</td>\n",
              "      <td>1.4</td>\n",
              "      <td>0.2</td>\n",
              "      <td>0</td>\n",
              "    </tr>\n",
              "  </tbody>\n",
              "</table>\n",
              "</div>"
            ],
            "text/plain": [
              "   sepal length (cm)  sepal width (cm)  ...  petal width (cm)  label\n",
              "0                5.1               3.5  ...               0.2      0\n",
              "1                4.9               3.0  ...               0.2      0\n",
              "2                4.7               3.2  ...               0.2      0\n",
              "3                4.6               3.1  ...               0.2      0\n",
              "4                5.0               3.6  ...               0.2      0\n",
              "\n",
              "[5 rows x 5 columns]"
            ]
          },
          "metadata": {},
          "execution_count": 5
        }
      ]
    },
    {
      "cell_type": "code",
      "metadata": {
        "id": "URmOgk3tG0_K"
      },
      "source": [
        "X_train, X_test, y_train, y_test = train_test_split(iris_data, iris_label,\n",
        "                                                    test_size=0.2, random_state=42)"
      ],
      "execution_count": 6,
      "outputs": []
    },
    {
      "cell_type": "markdown",
      "metadata": {
        "id": "cm0ThIJBOQYw"
      },
      "source": [
        "## Decision Tree\n",
        "\n",
        "*A decision tree is a machine learning algorithm that partitions the data into subsets. The partitioning process starts with a binary split and continues until no further splits can be made. Various branches of variable length are formed.* ([informationbuilders.com](https://infocenter.informationbuilders.com/wf8103/index.jsp?topic=%2Fpubdocs%2FRStat16%2Fsource%2Ftopic47.htm))\n",
        "\n",
        "- `DecisionTreeClassifier`"
      ]
    },
    {
      "cell_type": "code",
      "metadata": {
        "id": "z5bfbLSpKL6C"
      },
      "source": [
        "# instantiate your model\n",
        "dt_clf = DecisionTreeClassifier(random_state=42)"
      ],
      "execution_count": 7,
      "outputs": []
    },
    {
      "cell_type": "code",
      "metadata": {
        "colab": {
          "base_uri": "https://localhost:8080/"
        },
        "id": "aGAiV2RKOm-X",
        "outputId": "3d35f58d-a0e8-48ce-def9-6653784c9704"
      },
      "source": [
        "# Train your model\n",
        "dt_clf.fit(X_train, y_train)"
      ],
      "execution_count": 8,
      "outputs": [
        {
          "output_type": "execute_result",
          "data": {
            "text/plain": [
              "DecisionTreeClassifier(ccp_alpha=0.0, class_weight=None, criterion='gini',\n",
              "                       max_depth=None, max_features=None, max_leaf_nodes=None,\n",
              "                       min_impurity_decrease=0.0, min_impurity_split=None,\n",
              "                       min_samples_leaf=1, min_samples_split=2,\n",
              "                       min_weight_fraction_leaf=0.0, presort='deprecated',\n",
              "                       random_state=42, splitter='best')"
            ]
          },
          "metadata": {},
          "execution_count": 8
        }
      ]
    },
    {
      "cell_type": "code",
      "metadata": {
        "colab": {
          "base_uri": "https://localhost:8080/"
        },
        "id": "3rp7cA5lQ3tI",
        "outputId": "4ae997df-a44d-412b-f861-c427f4df03c8"
      },
      "source": [
        "# Test your model \n",
        "pred = dt_clf.predict(X_test)\n",
        "pred"
      ],
      "execution_count": 9,
      "outputs": [
        {
          "output_type": "execute_result",
          "data": {
            "text/plain": [
              "array([1, 0, 2, 1, 1, 0, 1, 2, 1, 1, 2, 0, 0, 0, 0, 1, 2, 1, 1, 2, 0, 2,\n",
              "       0, 2, 2, 2, 2, 2, 0, 0])"
            ]
          },
          "metadata": {},
          "execution_count": 9
        }
      ]
    },
    {
      "cell_type": "code",
      "metadata": {
        "colab": {
          "base_uri": "https://localhost:8080/"
        },
        "id": "3dIu91ELRTXY",
        "outputId": "8c4c072c-74a7-4a37-9594-e1e66ab4fae7"
      },
      "source": [
        "from sklearn.metrics import accuracy_score\n",
        "acc_score = accuracy_score(y_test, pred)\n",
        "print(\"Prediction accuacy: {0:.4f}\".format(acc_score))"
      ],
      "execution_count": 10,
      "outputs": [
        {
          "output_type": "stream",
          "name": "stdout",
          "text": [
            "Prediction accuacy: 1.0000\n"
          ]
        }
      ]
    },
    {
      "cell_type": "code",
      "metadata": {
        "id": "RYaXh9KC8SeJ"
      },
      "source": [
        "cross_val_score()"
      ],
      "execution_count": null,
      "outputs": []
    },
    {
      "cell_type": "markdown",
      "metadata": {
        "id": "ttTpru7P-bUi"
      },
      "source": [
        "## `Model Selection`\n",
        "- `train_test_split()`\n",
        "- `accuracy_score()`"
      ]
    },
    {
      "cell_type": "code",
      "metadata": {
        "colab": {
          "base_uri": "https://localhost:8080/"
        },
        "id": "RQjcmm84-kOw",
        "outputId": "dd35c0fd-2260-4ee4-ec91-d0ab37682cd0"
      },
      "source": [
        "from sklearn.datasets import load_iris\n",
        "from sklearn.tree import DecisionTreeClassifier\n",
        "from sklearn.metrics import accuracy_score\n",
        "\n",
        "# load data\n",
        "iris = load_iris()\n",
        "\n",
        "# instantiate classifer\n",
        "dt_clf = DecisionTreeClassifier()\n",
        "\n",
        "# prepare data\n",
        "train_data = iris.data\n",
        "train_label = iris.target\n",
        "\n",
        "# train\n",
        "dt_clf.fit(train_data, train_label)\n",
        "\n",
        "# Predict\n",
        "pred = dt_clf.predict(train_data)\n",
        "print(\"Accuracy: \", accuracy_score(train_label, pred))"
      ],
      "execution_count": 23,
      "outputs": [
        {
          "output_type": "stream",
          "name": "stdout",
          "text": [
            "Accuracy:  1.0\n"
          ]
        }
      ]
    },
    {
      "cell_type": "code",
      "metadata": {
        "id": "bjrTUNhsBSbv"
      },
      "source": [
        "from sklearn.model_selection import train_test_split\n",
        "\n",
        "dt_clf2 = DecisionTreeClassifier()\n",
        "iris_set = load_iris()\n",
        "\n",
        "X_train, X_test, y_train, y_test = train_test_split(iris_set.data, iris_set.target,\n",
        "                                                    test_size=0.2)"
      ],
      "execution_count": 1,
      "outputs": []
    },
    {
      "cell_type": "code",
      "metadata": {
        "colab": {
          "base_uri": "https://localhost:8080/"
        },
        "id": "zXBF6_ucBnoG",
        "outputId": "fe49eafd-9a3e-47a7-89c2-07eade5923a7"
      },
      "source": [
        "dt_clf2.fit(X_train, y_train)\n",
        "pred = dt_clf2.predict(X_test)\n",
        "print(\"Accuracy score: {0:.4f}\".format(accuracy_score(y_test, pred)))"
      ],
      "execution_count": 2,
      "outputs": [
        {
          "output_type": "stream",
          "name": "stdout",
          "text": [
            "Accuracy score: 0.9333\n"
          ]
        }
      ]
    },
    {
      "cell_type": "markdown",
      "metadata": {
        "id": "5IyqXj6GDClU"
      },
      "source": [
        "- `KFodl()`\n",
        "- `StratifiedKFold()`"
      ]
    },
    {
      "cell_type": "code",
      "metadata": {
        "colab": {
          "base_uri": "https://localhost:8080/"
        },
        "id": "mYNG6RHgDM5R",
        "outputId": "de592d26-a51e-4847-e302-6afaf70c835a"
      },
      "source": [
        "from sklearn.datasets import load_iris\n",
        "from sklearn.tree import DecisionTreeClassifier\n",
        "from sklearn.metrics import accuracy_score\n",
        "from sklearn.model_selection import KFold\n",
        "import numpy as np\n",
        "\n",
        "iris = load_iris()\n",
        "features = iris.data\n",
        "label = iris.target\n",
        "dt_clf3 = DecisionTreeClassifier()\n",
        "\n",
        "# Instantiate KFold object.\n",
        "kfold = KFold(n_splits = 4)\n",
        "cv_accuracy = []\n",
        "print(\"iris dataset size: \", features.shape[0])"
      ],
      "execution_count": 2,
      "outputs": [
        {
          "output_type": "stream",
          "name": "stdout",
          "text": [
            "iris dataset size:  150\n"
          ]
        }
      ]
    },
    {
      "cell_type": "markdown",
      "metadata": {
        "id": "qnE6F8sOkb1b"
      },
      "source": [
        "- `kfold.split()`"
      ]
    },
    {
      "cell_type": "code",
      "metadata": {
        "colab": {
          "base_uri": "https://localhost:8080/"
        },
        "id": "MVqhFXpIHG4F",
        "outputId": "5be3b7cd-c49a-4824-eb47-bc7fd8f97cfd"
      },
      "source": [
        "n_iter = 0\n",
        "\n",
        "# KFold.split() returns the row indices of train and test sets in array\n",
        "for train_index, test_index in kfold.split(features):\n",
        "    print(\"train index: \", train_index)\n",
        "    print(\"test index: \", test_index)\n",
        "    X_train, X_test = features[train_index], features[test_index]\n",
        "    y_train, y_test = label[train_index], label[test_index]\n",
        "    # train and predict\n",
        "    dt_clf3.fit(X_train, y_train)\n",
        "    pred = dt_clf3.predict(X_test)\n",
        "    n_iter += 1\n",
        "\n",
        "    # Estimate accuracy on each iteration\n",
        "    accuracy = np.round(accuracy_score(y_test, pred), 4)\n",
        "    train_size = X_train.shape[0]\n",
        "    test_size = X_test.shape[0]\n",
        "    print(\"\\n{0} cross validation accuracy: {1}, test dataset size: {2}, test dataset size: {3}\".format(n_iter, accuracy, train_size, test_size))\n",
        "    print(\"#{0} validation set index: {1}\".format(n_iter, test_index))\n",
        "    cv_accuracy.append(accuracy)"
      ],
      "execution_count": 5,
      "outputs": [
        {
          "output_type": "stream",
          "name": "stdout",
          "text": [
            "train index:  [ 38  39  40  41  42  43  44  45  46  47  48  49  50  51  52  53  54  55\n",
            "  56  57  58  59  60  61  62  63  64  65  66  67  68  69  70  71  72  73\n",
            "  74  75  76  77  78  79  80  81  82  83  84  85  86  87  88  89  90  91\n",
            "  92  93  94  95  96  97  98  99 100 101 102 103 104 105 106 107 108 109\n",
            " 110 111 112 113 114 115 116 117 118 119 120 121 122 123 124 125 126 127\n",
            " 128 129 130 131 132 133 134 135 136 137 138 139 140 141 142 143 144 145\n",
            " 146 147 148 149]\n",
            "test index:  [ 0  1  2  3  4  5  6  7  8  9 10 11 12 13 14 15 16 17 18 19 20 21 22 23\n",
            " 24 25 26 27 28 29 30 31 32 33 34 35 36 37]\n",
            "\n",
            "1 cross validation accuracy: 1.0, test dataset size: 112, test dataset size: 38\n",
            "#1 validation set index: [ 0  1  2  3  4  5  6  7  8  9 10 11 12 13 14 15 16 17 18 19 20 21 22 23\n",
            " 24 25 26 27 28 29 30 31 32 33 34 35 36 37]\n",
            "train index:  [  0   1   2   3   4   5   6   7   8   9  10  11  12  13  14  15  16  17\n",
            "  18  19  20  21  22  23  24  25  26  27  28  29  30  31  32  33  34  35\n",
            "  36  37  76  77  78  79  80  81  82  83  84  85  86  87  88  89  90  91\n",
            "  92  93  94  95  96  97  98  99 100 101 102 103 104 105 106 107 108 109\n",
            " 110 111 112 113 114 115 116 117 118 119 120 121 122 123 124 125 126 127\n",
            " 128 129 130 131 132 133 134 135 136 137 138 139 140 141 142 143 144 145\n",
            " 146 147 148 149]\n",
            "test index:  [38 39 40 41 42 43 44 45 46 47 48 49 50 51 52 53 54 55 56 57 58 59 60 61\n",
            " 62 63 64 65 66 67 68 69 70 71 72 73 74 75]\n",
            "\n",
            "2 cross validation accuracy: 0.9474, test dataset size: 112, test dataset size: 38\n",
            "#2 validation set index: [38 39 40 41 42 43 44 45 46 47 48 49 50 51 52 53 54 55 56 57 58 59 60 61\n",
            " 62 63 64 65 66 67 68 69 70 71 72 73 74 75]\n",
            "train index:  [  0   1   2   3   4   5   6   7   8   9  10  11  12  13  14  15  16  17\n",
            "  18  19  20  21  22  23  24  25  26  27  28  29  30  31  32  33  34  35\n",
            "  36  37  38  39  40  41  42  43  44  45  46  47  48  49  50  51  52  53\n",
            "  54  55  56  57  58  59  60  61  62  63  64  65  66  67  68  69  70  71\n",
            "  72  73  74  75 113 114 115 116 117 118 119 120 121 122 123 124 125 126\n",
            " 127 128 129 130 131 132 133 134 135 136 137 138 139 140 141 142 143 144\n",
            " 145 146 147 148 149]\n",
            "test index:  [ 76  77  78  79  80  81  82  83  84  85  86  87  88  89  90  91  92  93\n",
            "  94  95  96  97  98  99 100 101 102 103 104 105 106 107 108 109 110 111\n",
            " 112]\n",
            "\n",
            "3 cross validation accuracy: 0.8919, test dataset size: 113, test dataset size: 37\n",
            "#3 validation set index: [ 76  77  78  79  80  81  82  83  84  85  86  87  88  89  90  91  92  93\n",
            "  94  95  96  97  98  99 100 101 102 103 104 105 106 107 108 109 110 111\n",
            " 112]\n",
            "train index:  [  0   1   2   3   4   5   6   7   8   9  10  11  12  13  14  15  16  17\n",
            "  18  19  20  21  22  23  24  25  26  27  28  29  30  31  32  33  34  35\n",
            "  36  37  38  39  40  41  42  43  44  45  46  47  48  49  50  51  52  53\n",
            "  54  55  56  57  58  59  60  61  62  63  64  65  66  67  68  69  70  71\n",
            "  72  73  74  75  76  77  78  79  80  81  82  83  84  85  86  87  88  89\n",
            "  90  91  92  93  94  95  96  97  98  99 100 101 102 103 104 105 106 107\n",
            " 108 109 110 111 112]\n",
            "test index:  [113 114 115 116 117 118 119 120 121 122 123 124 125 126 127 128 129 130\n",
            " 131 132 133 134 135 136 137 138 139 140 141 142 143 144 145 146 147 148\n",
            " 149]\n",
            "\n",
            "4 cross validation accuracy: 0.7027, test dataset size: 113, test dataset size: 37\n",
            "#4 validation set index: [113 114 115 116 117 118 119 120 121 122 123 124 125 126 127 128 129 130\n",
            " 131 132 133 134 135 136 137 138 139 140 141 142 143 144 145 146 147 148\n",
            " 149]\n"
          ]
        }
      ]
    },
    {
      "cell_type": "code",
      "metadata": {
        "colab": {
          "base_uri": "https://localhost:8080/"
        },
        "id": "0Rm2tAnym4N2",
        "outputId": "a26cc3a1-be49-43a1-e202-032d57a65b00"
      },
      "source": [
        "# Check average accuracy\n",
        "print(\"\\n Average Cross-validation Accuracy\", np.round(np.mean(cv_accuracy), 5))"
      ],
      "execution_count": 9,
      "outputs": [
        {
          "output_type": "stream",
          "name": "stdout",
          "text": [
            "\n",
            " Average Cross-validation Accuracy 0.8855\n"
          ]
        }
      ]
    },
    {
      "cell_type": "markdown",
      "metadata": {
        "id": "JTlnku80pktY"
      },
      "source": [
        "### Visualise cross-validation\n",
        "\n",
        "**References**\n",
        "https://coderedirect.com/questions/110806/custom-matplotlib-plot-chess-board-like-table-with-colored-cells"
      ]
    },
    {
      "cell_type": "code",
      "metadata": {
        "colab": {
          "base_uri": "https://localhost:8080/",
          "height": 235
        },
        "id": "Cr2m2ZGxpfRk",
        "outputId": "48e5341f-c22f-452d-d9fb-49b6af8400da"
      },
      "source": [
        "import matplotlib.pyplot as plt\n",
        "import numpy as np\n",
        "\n",
        "# variables for grid setup\n",
        "n_rows, n_cols = 1, 80\n",
        "image = np.zeros(n_rows * n_cols)\n",
        "\n",
        "fig, axes = plt.subplots(n_cols, n_rows, figsize=(50, 3))\n",
        "\n",
        "row_labels = range(n_rows)\n",
        "col_labels = range(n_cols)\n",
        "plt.xticks(range(n_cols), col_labels)\n",
        "plt.yticks(range(n_rows), row_labels)\n",
        "plt.show()"
      ],
      "execution_count": 36,
      "outputs": [
        {
          "output_type": "display_data",
          "data": {
            "image/png": "[encoded data removed]",
            "text/plain": [
              "<Figure size 3600x216 with 80 Axes>"
            ]
          },
          "metadata": {
            "needs_background": "light"
          }
        }
      ]
    },
    {
      "cell_type": "markdown",
      "metadata": {
        "id": "hqNPzOSEtI88"
      },
      "source": [
        "## `StratifiedKFold()`\n",
        "Why is stradified K fold matter?\n",
        "- It is useful for imbalanced dataset. Let's take an example of load fraud dataset of 0.1 billion loan cases. There are only about 1,000 fraud cases in this dataset. Then the fraud cases will only make about 0.0001% of the entire dataset. However, this 0.0001% matters because we want to prevent \n",
        "frauds by learning from the features of these data pieces. However, if we stratify our dataset completely randomly, it is highly likely that the fraud cases are not evenly distributed across all folds. This is where `stratified K folds` comes in handy.\n",
        "  - `Stratified K fold` takes the label distribution of the origianl dataset into account."
      ]
    },
    {
      "cell_type": "code",
      "metadata": {
        "colab": {
          "base_uri": "https://localhost:8080/"
        },
        "id": "EJk0RSSFvEfp",
        "outputId": "34108819-fc74-472a-fb8b-01c7e9c4ce33"
      },
      "source": [
        "import pandas as pd\n",
        "\n",
        "iris = load_iris()\n",
        "iris_df = pd.DataFrame(data=iris.data, columns=iris.feature_names)\n",
        "iris_df[\"label\"] = iris.target\n",
        "iris_df[\"label\"].value_counts()"
      ],
      "execution_count": 38,
      "outputs": [
        {
          "output_type": "execute_result",
          "data": {
            "text/plain": [
              "2    50\n",
              "1    50\n",
              "0    50\n",
              "Name: label, dtype: int64"
            ]
          },
          "metadata": {},
          "execution_count": 38
        }
      ]
    },
    {
      "cell_type": "code",
      "metadata": {
        "colab": {
          "base_uri": "https://localhost:8080/"
        },
        "id": "xPDdIigOwjXc",
        "outputId": "50827809-d9ce-412b-9679-5a1a469a7429"
      },
      "source": [
        "# The stratifications are so imbalanced there are subdatasets of specific label that are not learnt at all by the model.\n",
        "# This would seriously affect the model's prediction accuracy. \n",
        "\n",
        "kfold = KFold(n_splits=3)\n",
        "n_iter = 0\n",
        "\n",
        "split_kfold = kfold.split(iris_df)\n",
        "print(\"split kfold: \", split_kfold, end=\"\\n\")\n",
        "\n",
        "for train_index, test_index in kfold.split(iris_df):\n",
        "    n_iter += 1\n",
        "    label_train = iris_df[\"label\"].iloc[train_index]\n",
        "    label_test = iris_df[\"label\"].iloc[test_index]\n",
        "    print(f\"train index: {train_index}, length: {len(train_index)}\")\n",
        "    print(f\"test index: {test_index}, length: {len(test_index)}\")\n",
        "    print(\"## cross validation: {0}\\n\".format(n_iter))\n",
        "    print(\"train label distribution: \", label_train.value_counts())\n",
        "    print(\"test label distribution: \", label_test.value_counts())"
      ],
      "execution_count": 45,
      "outputs": [
        {
          "output_type": "stream",
          "name": "stdout",
          "text": [
            "split kfold:  <generator object _BaseKFold.split at 0x7f091e5e2550>\n",
            "train index: [ 50  51  52  53  54  55  56  57  58  59  60  61  62  63  64  65  66  67\n",
            "  68  69  70  71  72  73  74  75  76  77  78  79  80  81  82  83  84  85\n",
            "  86  87  88  89  90  91  92  93  94  95  96  97  98  99 100 101 102 103\n",
            " 104 105 106 107 108 109 110 111 112 113 114 115 116 117 118 119 120 121\n",
            " 122 123 124 125 126 127 128 129 130 131 132 133 134 135 136 137 138 139\n",
            " 140 141 142 143 144 145 146 147 148 149], length: 100\n",
            "test index: [ 0  1  2  3  4  5  6  7  8  9 10 11 12 13 14 15 16 17 18 19 20 21 22 23\n",
            " 24 25 26 27 28 29 30 31 32 33 34 35 36 37 38 39 40 41 42 43 44 45 46 47\n",
            " 48 49], length: 50\n",
            "## cross validation: 1\n",
            "\n",
            "train label distribution:  2    50\n",
            "1    50\n",
            "Name: label, dtype: int64\n",
            "test label distribution:  0    50\n",
            "Name: label, dtype: int64\n",
            "train index: [  0   1   2   3   4   5   6   7   8   9  10  11  12  13  14  15  16  17\n",
            "  18  19  20  21  22  23  24  25  26  27  28  29  30  31  32  33  34  35\n",
            "  36  37  38  39  40  41  42  43  44  45  46  47  48  49 100 101 102 103\n",
            " 104 105 106 107 108 109 110 111 112 113 114 115 116 117 118 119 120 121\n",
            " 122 123 124 125 126 127 128 129 130 131 132 133 134 135 136 137 138 139\n",
            " 140 141 142 143 144 145 146 147 148 149], length: 100\n",
            "test index: [50 51 52 53 54 55 56 57 58 59 60 61 62 63 64 65 66 67 68 69 70 71 72 73\n",
            " 74 75 76 77 78 79 80 81 82 83 84 85 86 87 88 89 90 91 92 93 94 95 96 97\n",
            " 98 99], length: 50\n",
            "## cross validation: 2\n",
            "\n",
            "train label distribution:  2    50\n",
            "0    50\n",
            "Name: label, dtype: int64\n",
            "test label distribution:  1    50\n",
            "Name: label, dtype: int64\n",
            "train index: [ 0  1  2  3  4  5  6  7  8  9 10 11 12 13 14 15 16 17 18 19 20 21 22 23\n",
            " 24 25 26 27 28 29 30 31 32 33 34 35 36 37 38 39 40 41 42 43 44 45 46 47\n",
            " 48 49 50 51 52 53 54 55 56 57 58 59 60 61 62 63 64 65 66 67 68 69 70 71\n",
            " 72 73 74 75 76 77 78 79 80 81 82 83 84 85 86 87 88 89 90 91 92 93 94 95\n",
            " 96 97 98 99], length: 100\n",
            "test index: [100 101 102 103 104 105 106 107 108 109 110 111 112 113 114 115 116 117\n",
            " 118 119 120 121 122 123 124 125 126 127 128 129 130 131 132 133 134 135\n",
            " 136 137 138 139 140 141 142 143 144 145 146 147 148 149], length: 50\n",
            "## cross validation: 3\n",
            "\n",
            "train label distribution:  1    50\n",
            "0    50\n",
            "Name: label, dtype: int64\n",
            "test label distribution:  2    50\n",
            "Name: label, dtype: int64\n"
          ]
        }
      ]
    },
    {
      "cell_type": "markdown",
      "metadata": {
        "id": "Z_5MYD-vybMW"
      },
      "source": [
        "### Stratified K Fold - Example\n",
        "Key Difference between `K Fold` and `Stratified K Fold`:\n",
        "- `Stratified K Fold` requires label as an input because it splits the dataset into folds based on the label distribution."
      ]
    },
    {
      "cell_type": "code",
      "metadata": {
        "colab": {
          "base_uri": "https://localhost:8080/"
        },
        "id": "Ej2pax6SxIP4",
        "outputId": "8aaf0be9-55d5-4e7b-d411-b3bb18546c42"
      },
      "source": [
        "from sklearn.model_selection import StratifiedKFold\n",
        "\n",
        "skf = StratifiedKFold(n_splits=3)\n",
        "n_iter = 0\n",
        "\n",
        "for train_index, test_index in skf.split(iris_df, iris_df[\"label\"]):\n",
        "    n_iter += 1\n",
        "    label_train = iris_df[\"label\"].iloc[train_index]\n",
        "    label_test = iris_df[\"label\"].iloc[test_index]\n",
        "    print(f\"## Cross validation: {n_iter}\")\n",
        "    print(f\"Train label distribution:\\n{label_train.value_counts()}\")\n",
        "    print(f\"Test label distribution:\\n{label_test.value_counts()}\")"
      ],
      "execution_count": 52,
      "outputs": [
        {
          "output_type": "stream",
          "name": "stdout",
          "text": [
            "## Cross validation: 1\n",
            "Train label distribution:\n",
            "2    34\n",
            "1    33\n",
            "0    33\n",
            "Name: label, dtype: int64\n",
            "Test label distribution:\n",
            "1    17\n",
            "0    17\n",
            "2    16\n",
            "Name: label, dtype: int64\n",
            "## Cross validation: 2\n",
            "Train label distribution:\n",
            "1    34\n",
            "2    33\n",
            "0    33\n",
            "Name: label, dtype: int64\n",
            "Test label distribution:\n",
            "2    17\n",
            "0    17\n",
            "1    16\n",
            "Name: label, dtype: int64\n",
            "## Cross validation: 3\n",
            "Train label distribution:\n",
            "0    34\n",
            "2    33\n",
            "1    33\n",
            "Name: label, dtype: int64\n",
            "Test label distribution:\n",
            "2    17\n",
            "1    17\n",
            "0    16\n",
            "Name: label, dtype: int64\n"
          ]
        }
      ]
    },
    {
      "cell_type": "code",
      "metadata": {
        "colab": {
          "base_uri": "https://localhost:8080/"
        },
        "id": "Sx5CFCc9zULb",
        "outputId": "ec6cd484-cee3-463d-ab1e-9c9d6164cfae"
      },
      "source": [
        ""
      ],
      "execution_count": 49,
      "outputs": [
        {
          "output_type": "stream",
          "name": "stdout",
          "text": [
            "0     0\n",
            "1     0\n",
            "2     0\n",
            "3     0\n",
            "4     0\n",
            "     ..\n",
            "95    1\n",
            "96    1\n",
            "97    1\n",
            "98    1\n",
            "99    1\n",
            "Name: label, Length: 100, dtype: int64\n",
            "100    2\n",
            "101    2\n",
            "102    2\n",
            "103    2\n",
            "104    2\n",
            "105    2\n",
            "106    2\n",
            "107    2\n",
            "108    2\n",
            "109    2\n",
            "110    2\n",
            "111    2\n",
            "112    2\n",
            "113    2\n",
            "114    2\n",
            "115    2\n",
            "116    2\n",
            "117    2\n",
            "118    2\n",
            "119    2\n",
            "120    2\n",
            "121    2\n",
            "122    2\n",
            "123    2\n",
            "124    2\n",
            "125    2\n",
            "126    2\n",
            "127    2\n",
            "128    2\n",
            "129    2\n",
            "130    2\n",
            "131    2\n",
            "132    2\n",
            "133    2\n",
            "134    2\n",
            "135    2\n",
            "136    2\n",
            "137    2\n",
            "138    2\n",
            "139    2\n",
            "140    2\n",
            "141    2\n",
            "142    2\n",
            "143    2\n",
            "144    2\n",
            "145    2\n",
            "146    2\n",
            "147    2\n",
            "148    2\n",
            "149    2\n",
            "Name: label, dtype: int64\n"
          ]
        }
      ]
    },
    {
      "cell_type": "markdown",
      "metadata": {
        "id": "MzL1S07N1Dqf"
      },
      "source": [
        "### Stratified K Fold - Cross Validation"
      ]
    },
    {
      "cell_type": "code",
      "metadata": {
        "colab": {
          "base_uri": "https://localhost:8080/"
        },
        "id": "6joxgxqL1Frh",
        "outputId": "17e05b63-b101-4e5f-bb9b-9fdf90cac583"
      },
      "source": [
        "dt_clf4 = DecisionTreeClassifier()\n",
        "\n",
        "skfold = StratifiedKFold(n_splits=3)\n",
        "n_iter = 0\n",
        "cv_accuracy = []\n",
        "labels = iris.target\n",
        "\n",
        "# Be sure to pass in the label data into Stratified K Fold object.\n",
        "for train_index, test_index in skfold.split(features, labels):\n",
        "    # etract train/test data using the index returned from split()\n",
        "    X_train, X_test = features[train_index], features[test_index]\n",
        "    y_train, y_test = labels[train_index], labels[test_index]\n",
        "    # train and predict\n",
        "    dt_clf4.fit(X_train, y_train)\n",
        "    pred = dt_clf4.predict(X_test)\n",
        "\n",
        "    # Measure accuracy for each iteration\n",
        "    n_iter += 1\n",
        "    accuracy = np.round(accuracy_score(y_test, pred), 4)\n",
        "    train_size = X_train.shape[0]\n",
        "    test_size = y_train.shape\n",
        "    print(f\"\\n{n_iter} cross-validation accuracy: {accuracy}\\ntrain data size: {train_size}, test data size: {test_size}\")\n",
        "    print(f\"{n_iter} valid set index: {test_index}\")\n",
        "    cv_accuracy.append(accuracy)"
      ],
      "execution_count": 60,
      "outputs": [
        {
          "output_type": "stream",
          "name": "stdout",
          "text": [
            "\n",
            "1 cross-validation accuracy: 0.98\n",
            "train data size: 100, test data size: (100,)\n",
            "1 valid set index: [  0   1   2   3   4   5   6   7   8   9  10  11  12  13  14  15  16  50\n",
            "  51  52  53  54  55  56  57  58  59  60  61  62  63  64  65  66 100 101\n",
            " 102 103 104 105 106 107 108 109 110 111 112 113 114 115]\n",
            "\n",
            "2 cross-validation accuracy: 0.94\n",
            "train data size: 100, test data size: (100,)\n",
            "2 valid set index: [ 17  18  19  20  21  22  23  24  25  26  27  28  29  30  31  32  33  67\n",
            "  68  69  70  71  72  73  74  75  76  77  78  79  80  81  82 116 117 118\n",
            " 119 120 121 122 123 124 125 126 127 128 129 130 131 132]\n",
            "\n",
            "3 cross-validation accuracy: 1.0\n",
            "train data size: 100, test data size: (100,)\n",
            "3 valid set index: [ 34  35  36  37  38  39  40  41  42  43  44  45  46  47  48  49  83  84\n",
            "  85  86  87  88  89  90  91  92  93  94  95  96  97  98  99 133 134 135\n",
            " 136 137 138 139 140 141 142 143 144 145 146 147 148 149]\n"
          ]
        }
      ]
    },
    {
      "cell_type": "code",
      "metadata": {
        "colab": {
          "base_uri": "https://localhost:8080/"
        },
        "id": "YE_ZK5IN1YeH",
        "outputId": "b0969801-37af-4ab2-abce-05862cd71736"
      },
      "source": [
        "# compute CV accuracy\n",
        "print(f\"CV accuracy: {np.round(cv_accuracy, 4)}\")\n",
        "print(\"Mean accuracy: {0:.3f}%\".format(np.mean(cv_accuracy) * 100))"
      ],
      "execution_count": 70,
      "outputs": [
        {
          "output_type": "stream",
          "name": "stdout",
          "text": [
            "CV accuracy: [0.98 0.94 1.  ]\n",
            "Mean accuracy: 97.333%\n"
          ]
        }
      ]
    },
    {
      "cell_type": "markdown",
      "metadata": {
        "id": "E2TJn3rq4tc7"
      },
      "source": [
        "## `cross_val_score()`\n",
        "- `estimator, X, y, scoring, cv`\n",
        "  - `estimator`: classification algorithm `Classifier` or `Regressor`\n",
        "  - `scoring`: prediction performance estimation index\n",
        "  - `cv`: number of cross validation folds\n",
        "- this API `fits`, `predicts`, and `evaluates` all at once, making the cross validation estimation extremely easy."
      ]
    },
    {
      "cell_type": "code",
      "metadata": {
        "colab": {
          "base_uri": "https://localhost:8080/"
        },
        "id": "0HfOz58f28ha",
        "outputId": "0fac65a5-eb2c-4b35-ee49-acd098c2bdd8"
      },
      "source": [
        "from sklearn.tree import DecisionTreeClassifier\n",
        "from sklearn.model_selection import cross_val_score, cross_validate\n",
        "from sklearn.datasets import load_iris\n",
        "\n",
        "iris_data = load_iris()\n",
        "dt_clf = DecisionTreeClassifier()\n",
        "\n",
        "data = iris_data.data\n",
        "label = iris_data.target\n",
        "\n",
        "# Performance indicators - accuracy with 3 CV sets\n",
        "scores = cross_val_score(dt_clf, data, label, scoring=\"accuracy\", cv=3)\n",
        "print(\"CV validation accuracy: \", np.round(scores, 4))\n",
        "print(\"CV mean accuracy: {:.4f}\".format(np.mean(scores)))"
      ],
      "execution_count": 72,
      "outputs": [
        {
          "output_type": "stream",
          "name": "stdout",
          "text": [
            "CV validation accuracy:  [0.98 0.92 1.  ]\n",
            "CV mean accuracy: 0.9667\n"
          ]
        }
      ]
    },
    {
      "cell_type": "markdown",
      "metadata": {
        "id": "SfZNHqJg8-Dg"
      },
      "source": [
        "## GrisSearchCV\n",
        "- `estimator`: `classifier`, `regressor`, `pipeline`\n",
        "- `param_grid`: a dictionary of { key: list }\n",
        "- `scoring`: \n",
        "- `refit`: finds the optimal hyperparameters and re-trains the estimator again with the identified hyperparameters.\n"
      ]
    },
    {
      "cell_type": "code",
      "metadata": {
        "id": "9VMPNI6Q9jy6"
      },
      "source": [
        "grid_parameters = {'max_depth': [1, 2, 3],\n",
        "                   \"min_samples_split\": [2, 3]}"
      ],
      "execution_count": null,
      "outputs": []
    },
    {
      "cell_type": "code",
      "metadata": {
        "id": "c0wOlYYDAXuX"
      },
      "source": [
        "from sklearn.datasets import load_iris\n",
        "from sklearn.tree import DecisionTreeClassifier\n",
        "from sklearn.model_selection import GridSearchCV, train_test_split\n",
        "\n",
        "# load and split dataset \n",
        "iris_data = load_iris()\n",
        "X_train, X_test, y_train, y_test = train_test_split(iris_data.data, iris_data.target,\n",
        "                                                    test_size=0.25)\n",
        "dtree = DecisionTreeClassifier()\n",
        "\n",
        "# Set parameters in dictionary\n",
        "params = {\"max_depth\": [1, 2, 3], \"min_samples_split\": [2, 3]}"
      ],
      "execution_count": 74,
      "outputs": []
    },
    {
      "cell_type": "code",
      "metadata": {
        "id": "swNqngssAwQ3"
      },
      "source": [
        "import pandas as pd\n",
        "\n",
        "# param_grid: trains on train/test set folds using the parameter setting.\n",
        "grid_dtree = GridSearchCV(dtree, param_grid=params, cv=3, refit=True)\n",
        "\n",
        "# train & evaluate on the iris dataset using param_grid conditions in order.\n",
        "grid_dtree.fit(X_train, y_train)\n",
        "\n",
        "# Convert the GridSearchCV results into DataFrame\n",
        "scores_df = pd.DataFrame(grid_dtree.cv_results_)\n",
        "scores_df[[]]"
      ],
      "execution_count": 75,
      "outputs": []
    },
    {
      "cell_type": "code",
      "metadata": {
        "colab": {
          "base_uri": "https://localhost:8080/"
        },
        "id": "3Zdle2QGBz4I",
        "outputId": "c0781941-079f-4c31-881d-d31e60092402"
      },
      "source": [
        "scores_df.columns"
      ],
      "execution_count": 77,
      "outputs": [
        {
          "output_type": "execute_result",
          "data": {
            "text/plain": [
              "Index(['mean_fit_time', 'std_fit_time', 'mean_score_time', 'std_score_time',\n",
              "       'param_max_depth', 'param_min_samples_split', 'params',\n",
              "       'split0_test_score', 'split1_test_score', 'split2_test_score',\n",
              "       'mean_test_score', 'std_test_score', 'rank_test_score'],\n",
              "      dtype='object')"
            ]
          },
          "metadata": {},
          "execution_count": 77
        }
      ]
    },
    {
      "cell_type": "markdown",
      "metadata": {
        "id": "D27c7xYFC9GE"
      },
      "source": [
        "### Interpretation of Cross Validation\n",
        "- `rank_test_score`: shows the rank of each hyperparameter set's performance\n",
        "- `max_depth`: *It can also be described as the length of the longest path from the tree root to a leaf. The root node is considered to have a depth of 0. The Max Depth value cannot exceed 30 on a 32-bit machine* ([informationbuilders.com](https://infocenter.informationbuilders.com/wf8103/index.jsp?topic=%2Fpubdocs%2FRStat16%2Fsource%2Ftopic47.htm))."
      ]
    },
    {
      "cell_type": "code",
      "metadata": {
        "colab": {
          "base_uri": "https://localhost:8080/",
          "height": 334
        },
        "id": "q8Z9wl4hB58m",
        "outputId": "280efb62-2c51-471f-8956-331cd8575fad"
      },
      "source": [
        "sdf = scores_df.columns\n",
        "scores_df[[\"params\", sdf[10], sdf[-1],\n",
        "           sdf[7], sdf[8], sdf[9]]]"
      ],
      "execution_count": 82,
      "outputs": [
        {
          "output_type": "execute_result",
          "data": {
            "text/html": [
              "<div>\n",
              "<style scoped>\n",
              "    .dataframe tbody tr th:only-of-type {\n",
              "        vertical-align: middle;\n",
              "    }\n",
              "\n",
              "    .dataframe tbody tr th {\n",
              "        vertical-align: top;\n",
              "    }\n",
              "\n",
              "    .dataframe thead th {\n",
              "        text-align: right;\n",
              "    }\n",
              "</style>\n",
              "<table border=\"1\" class=\"dataframe\">\n",
              "  <thead>\n",
              "    <tr style=\"text-align: right;\">\n",
              "      <th></th>\n",
              "      <th>params</th>\n",
              "      <th>mean_test_score</th>\n",
              "      <th>rank_test_score</th>\n",
              "      <th>split0_test_score</th>\n",
              "      <th>split1_test_score</th>\n",
              "      <th>split2_test_score</th>\n",
              "    </tr>\n",
              "  </thead>\n",
              "  <tbody>\n",
              "    <tr>\n",
              "      <th>0</th>\n",
              "      <td>{'max_depth': 1, 'min_samples_split': 2}</td>\n",
              "      <td>0.660977</td>\n",
              "      <td>5</td>\n",
              "      <td>0.631579</td>\n",
              "      <td>0.675676</td>\n",
              "      <td>0.675676</td>\n",
              "    </tr>\n",
              "    <tr>\n",
              "      <th>1</th>\n",
              "      <td>{'max_depth': 1, 'min_samples_split': 3}</td>\n",
              "      <td>0.660977</td>\n",
              "      <td>5</td>\n",
              "      <td>0.631579</td>\n",
              "      <td>0.675676</td>\n",
              "      <td>0.675676</td>\n",
              "    </tr>\n",
              "    <tr>\n",
              "      <th>2</th>\n",
              "      <td>{'max_depth': 2, 'min_samples_split': 2}</td>\n",
              "      <td>0.937411</td>\n",
              "      <td>3</td>\n",
              "      <td>0.947368</td>\n",
              "      <td>0.918919</td>\n",
              "      <td>0.945946</td>\n",
              "    </tr>\n",
              "    <tr>\n",
              "      <th>3</th>\n",
              "      <td>{'max_depth': 2, 'min_samples_split': 3}</td>\n",
              "      <td>0.937411</td>\n",
              "      <td>3</td>\n",
              "      <td>0.947368</td>\n",
              "      <td>0.918919</td>\n",
              "      <td>0.945946</td>\n",
              "    </tr>\n",
              "    <tr>\n",
              "      <th>4</th>\n",
              "      <td>{'max_depth': 3, 'min_samples_split': 2}</td>\n",
              "      <td>0.954955</td>\n",
              "      <td>1</td>\n",
              "      <td>1.000000</td>\n",
              "      <td>0.918919</td>\n",
              "      <td>0.945946</td>\n",
              "    </tr>\n",
              "    <tr>\n",
              "      <th>5</th>\n",
              "      <td>{'max_depth': 3, 'min_samples_split': 3}</td>\n",
              "      <td>0.954955</td>\n",
              "      <td>1</td>\n",
              "      <td>1.000000</td>\n",
              "      <td>0.918919</td>\n",
              "      <td>0.945946</td>\n",
              "    </tr>\n",
              "  </tbody>\n",
              "</table>\n",
              "</div>"
            ],
            "text/plain": [
              "                                     params  ...  split2_test_score\n",
              "0  {'max_depth': 1, 'min_samples_split': 2}  ...           0.675676\n",
              "1  {'max_depth': 1, 'min_samples_split': 3}  ...           0.675676\n",
              "2  {'max_depth': 2, 'min_samples_split': 2}  ...           0.945946\n",
              "3  {'max_depth': 2, 'min_samples_split': 3}  ...           0.945946\n",
              "4  {'max_depth': 3, 'min_samples_split': 2}  ...           0.945946\n",
              "5  {'max_depth': 3, 'min_samples_split': 3}  ...           0.945946\n",
              "\n",
              "[6 rows x 6 columns]"
            ]
          },
          "metadata": {},
          "execution_count": 82
        }
      ]
    },
    {
      "cell_type": "code",
      "metadata": {
        "colab": {
          "base_uri": "https://localhost:8080/"
        },
        "id": "Rd26B3Q_ChpS",
        "outputId": "036566d9-331a-4f99-9e87-df3b9ba7cf92"
      },
      "source": [
        "print(\"GridSearchCV best params: \", grid_dtree.best_params_)\n",
        "print(\"GridSearchCV highest accuracy: {:.4f}\".format(grid_dtree.best_score_))"
      ],
      "execution_count": 85,
      "outputs": [
        {
          "output_type": "stream",
          "name": "stdout",
          "text": [
            "GridSearchCV best params:  {'max_depth': 3, 'min_samples_split': 2}\n",
            "GridSearchCV highest accuracy: 0.9550\n"
          ]
        }
      ]
    },
    {
      "cell_type": "code",
      "metadata": {
        "colab": {
          "base_uri": "https://localhost:8080/"
        },
        "id": "CbdJh9eHDm6W",
        "outputId": "3976d386-2f7f-45d6-cba0-3415dc3a0d54"
      },
      "source": [
        "# GridSearchCV's refitted estimator\n",
        "estimator = grid_dtree.best_estimator_\n",
        "\n",
        "# GridSearchCV's best_estimator_ has been optimally trained upon the instantiation + fitting. \n",
        "# No additional training is required.\n",
        "print(\"Estimator: \", estimator)\n",
        "pred = estimator.predict(X_test)\n",
        "print(\"Test dataset accuracy: {0:.4f}\".format(accuracy_score(y_test, pred)))"
      ],
      "execution_count": 87,
      "outputs": [
        {
          "output_type": "stream",
          "name": "stdout",
          "text": [
            "Estimator:  DecisionTreeClassifier(ccp_alpha=0.0, class_weight=None, criterion='gini',\n",
            "                       max_depth=3, max_features=None, max_leaf_nodes=None,\n",
            "                       min_impurity_decrease=0.0, min_impurity_split=None,\n",
            "                       min_samples_leaf=1, min_samples_split=2,\n",
            "                       min_weight_fraction_leaf=0.0, presort='deprecated',\n",
            "                       random_state=None, splitter='best')\n",
            "Test dataset accuracy: 0.9474\n"
          ]
        }
      ]
    }
  ]
}
